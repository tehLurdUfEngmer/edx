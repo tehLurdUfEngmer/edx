{
 "cells": [
  {
   "cell_type": "code",
   "execution_count": null,
   "metadata": {},
   "outputs": [],
   "source": [
    "\"\"\"\n",
    "- Moving & Deserialization\n",
    "\n",
    "Architechture of AWS-EMR = Amazon Web Service - Elastic Map Reduce\n",
    "    => S3 : long term persistent memory\n",
    "    => head node : Standard Unix file system\n",
    "    => HDFS : Hadoop Distributerd File System on Workers\n",
    "\n",
    "\"\"\"\n",
    "import os\n",
    "import sys\n",
    "import time\n",
    "\n",
    "# on imagine qu'on a le fichier ALL.csv dans le head node (téléchargé sur un cloud ou un serveur ...)\n",
    "%cd /mnt/workspace/edX-Micro-Master-in-Data-Science/big-data-analytics-using-spark/notebooks/Data/\n",
    "!ls\n",
    "!aws s3 ls s3://dse-weather/ALL.csv.gz\n",
    "!aws s3 cp s3://dse-weather/ALL.csv.gz ./ALL.csv.gz\n",
    "!rm ALL.csv\n",
    "!gunzip ALL.csv.gz\n",
    "!ls -l ALL.csv\n",
    "!head -2 ALL.csv\n",
    "#[...]\n",
    "# distribution HDFS : creation du rep sur les workers\n",
    "!hadoop fs -mkdir /weather\n",
    "# distribution du fichier sur les workers:\n",
    "!hadoop fs -copyFromLocal All.csv hdfs:///weather/weather.csv\n",
    "# vérification de la présence du fichier sur les clusters\n",
    "!hadoop fs -ls /weather\n"
   ]
  },
  {
   "cell_type": "code",
   "execution_count": null,
   "metadata": {},
   "outputs": [],
   "source": [
    "# verification de la présence de numpy_pack.py\n",
    "%cd /mnt/workspace/edX-Micro-Master-in-Data-Science/big-data-analytics-using-spark/notebooks/Section2-PCA/PCA/data_preparation/ \n",
    "!ls lib\n",
    "\n",
    "%pwd\n",
    "!ls -l lib/numpy_pack.py"
   ]
  },
  {
   "cell_type": "code",
   "execution_count": null,
   "metadata": {},
   "outputs": [],
   "source": [
    "%%time\n",
    "###Read CSV into a RDD :\n",
    "from pyspark import SparkContext\n",
    "# mise en place du cluster (ajout d'un fichier python pour utilisation de methodes / fonctions artisanales)\n",
    "sc = SparkContext(pyFiles=['/mnt/workspace/edX-Micro-Master-in-Data-Science/big-data-analytics-using-spark/notebooks/Section2-PCA/PCA/data_preparation/lib/numpy_pack.py'])\n",
    "#lecture CSV\n",
    "RDD=sc.textFile('/weather/weather.csv')\n",
    "RDD.count()"
   ]
  }
 ],
 "metadata": {
  "kernelspec": {
   "display_name": "Python 3",
   "language": "python",
   "name": "python3"
  },
  "language_info": {
   "codemirror_mode": {
    "name": "ipython",
    "version": 3
   },
   "file_extension": ".py",
   "mimetype": "text/x-python",
   "name": "python",
   "nbconvert_exporter": "python",
   "pygments_lexer": "ipython3",
   "version": "3.6.5"
  },
  "toc": {
   "base_numbering": 1,
   "nav_menu": {},
   "number_sections": true,
   "sideBar": true,
   "skip_h1_title": false,
   "title_cell": "Table of Contents",
   "title_sidebar": "Contents",
   "toc_cell": false,
   "toc_position": {},
   "toc_section_display": true,
   "toc_window_display": false
  },
  "varInspector": {
   "cols": {
    "lenName": 16,
    "lenType": 16,
    "lenVar": 40
   },
   "kernels_config": {
    "python": {
     "delete_cmd_postfix": "",
     "delete_cmd_prefix": "del ",
     "library": "var_list.py",
     "varRefreshCmd": "print(var_dic_list())"
    },
    "r": {
     "delete_cmd_postfix": ") ",
     "delete_cmd_prefix": "rm(",
     "library": "var_list.r",
     "varRefreshCmd": "cat(var_dic_list()) "
    }
   },
   "types_to_exclude": [
    "module",
    "function",
    "builtin_function_or_method",
    "instance",
    "_Feature"
   ],
   "window_display": false
  }
 },
 "nbformat": 4,
 "nbformat_minor": 2
}

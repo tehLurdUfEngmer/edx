{
 "cells": [
  {
   "cell_type": "code",
   "execution_count": 2,
   "metadata": {
    "ExecuteTime": {
     "end_time": "2019-10-23T19:13:11.933955Z",
     "start_time": "2019-10-23T19:12:58.041986Z"
    }
   },
   "outputs": [],
   "source": [
    "\"\"\"\n",
    "-word count: \n",
    "\"\"\"\n",
    "# nombre de partition (cloisons) par default dans le SC = Le nombre de Workers\n",
    "from time import time\n",
    "from pyspark import SparkContext\n",
    "# spark context avec 4 workers\n",
    "sc = SparkContext(master=\"local[4]\")"
   ]
  },
  {
   "cell_type": "code",
   "execution_count": 5,
   "metadata": {
    "ExecuteTime": {
     "end_time": "2019-10-23T19:13:54.348014Z",
     "start_time": "2019-10-23T19:13:54.150186Z"
    }
   },
   "outputs": [
    {
     "name": "stdout",
     "output_type": "stream",
     "text": [
      "CPU times: user 10 ms, sys: 0 ns, total: 10 ms\n",
      "Wall time: 160 ms\n"
     ]
    }
   ],
   "source": [
    "%%time\n",
    "#lecture fichier texte :\n",
    "datadir = 'mobydick'\n",
    "filename = 'mobydick.txt'\n",
    "textFile = sc.textFile(datadir+'/'+filename)\n",
    "type(textFile)"
   ]
  },
  {
   "cell_type": "code",
   "execution_count": 20,
   "metadata": {
    "ExecuteTime": {
     "end_time": "2019-10-23T19:34:50.773626Z",
     "start_time": "2019-10-23T19:34:49.433492Z"
    }
   },
   "outputs": [
    {
     "name": "stdout",
     "output_type": "stream",
     "text": [
      "[('themselves', 20), ('here,', 23), ('descending', 4), ('proper', 12), ('ladder,', 4), ('reasons,', 3), ('run,', 1), ('good.', 3), ('descend', 2), ('succeed,', 1), ('widely', 2), ('lessness', 1), ('Tormentoto,', 1), ('repre-', 1), ('MAST-HEAD', 5), ('Eaimond', 1), ('gale,', 6), ('lubber-like', 1), ('trump', 2), ('untraditionally', 1), ('shoulder,', 1), ('stars.', 1), ('likened', 1), ('crunching', 1), ('referred', 3), ('circular.', 1), ('Procopius', 1), ('back-foremost', 1), ('midway', 1), ('things),', 1)]\n",
      "CPU times: user 50 ms, sys: 10 ms, total: 60 ms\n",
      "Wall time: 1.32 s\n"
     ]
    }
   ],
   "source": [
    "%%time\n",
    "# on definit les plan d'execution :\n",
    "keyWords = textFile.flatMap(lambda phrase : phrase.split(\" \")).filter(lambda word : word!='').map(lambda word : (word,1)).reduceByKey(lambda x,y : x+y)\n",
    "print(keyWords.sample(False,0.001).collect())"
   ]
  },
  {
   "cell_type": "code",
   "execution_count": 21,
   "metadata": {
    "ExecuteTime": {
     "end_time": "2019-10-23T19:34:53.226658Z",
     "start_time": "2019-10-23T19:34:53.188579Z"
    }
   },
   "outputs": [
    {
     "name": "stdout",
     "output_type": "stream",
     "text": [
      "Plan :  (2) PythonRDD[39] at RDD at PythonRDD.scala:48 []\n",
      " |  MapPartitionsRDD[37] at mapPartitions at PythonRDD.scala:122 []\n",
      " |  ShuffledRDD[36] at partitionBy at NativeMethodAccessorImpl.java:0 []\n",
      " +-(2) PairwiseRDD[35] at reduceByKey at <timed exec>:2 []\n",
      "    |  PythonRDD[34] at reduceByKey at <timed exec>:2 []\n",
      "    |  mobydick/mobydick.txt MapPartitionsRDD[3] at textFile at NativeMethodAccessorImpl.java:0 []\n",
      "    |  mobydick/mobydick.txt HadoopRDD[2] at textFile at NativeMethodAccessorImpl.java:0 []\n"
     ]
    }
   ],
   "source": [
    "# affichage du plan\n",
    "print('Plan : ',keyWords.toDebugString().decode())"
   ]
  },
  {
   "cell_type": "code",
   "execution_count": 23,
   "metadata": {
    "ExecuteTime": {
     "end_time": "2019-10-23T19:35:01.339155Z",
     "start_time": "2019-10-23T19:35:00.817731Z"
    }
   },
   "outputs": [
    {
     "name": "stdout",
     "output_type": "stream",
     "text": [
      "Distinct words count :  19840 \n",
      "Words sum :  115314\n",
      "CPU times: user 20 ms, sys: 40 ms, total: 60 ms\n",
      "Wall time: 490 ms\n"
     ]
    }
   ],
   "source": [
    "%%time\n",
    "# comptage des mots :\n",
    "countWords = keyWords.count()\n",
    "# on ne prend que les nombres par les mots pour sommer\n",
    "sumWords = keyWords.map(lambda x:x[1]).reduce(lambda x,y:x+y)\n",
    "print('Distinct words count : ',countWords,'\\nWords sum : ',sumWords)"
   ]
  },
  {
   "cell_type": "code",
   "execution_count": 27,
   "metadata": {
    "ExecuteTime": {
     "end_time": "2019-10-23T19:47:09.148317Z",
     "start_time": "2019-10-23T19:47:08.900235Z"
    }
   },
   "outputs": [
    {
     "name": "stdout",
     "output_type": "stream",
     "text": [
      "Top 5 most used words in moby dick : \n",
      "the:\t6611\n",
      "of:\t3460\n",
      "and:\t2969\n",
      "a:\t2466\n",
      "to:\t2339\n",
      "CPU times: user 50 ms, sys: 0 ns, total: 50 ms\n",
      "Wall time: 220 ms\n"
     ]
    }
   ],
   "source": [
    "%%time\n",
    "# 5 mots les plus utilisés :\n",
    "#methode python \n",
    "colFile = keyWords.collect()\n",
    "colFile.sort(key=lambda x:x[1])\n",
    "print('Top 5 most used words in moby dick : \\n'+'\\n'.join(['%s:\\t%d'% colFile for colFile in reversed(colFile[-5:])]))"
   ]
  },
  {
   "cell_type": "code",
   "execution_count": 31,
   "metadata": {
    "ExecuteTime": {
     "end_time": "2019-10-23T19:52:49.925461Z",
     "start_time": "2019-10-23T19:52:49.820501Z"
    }
   },
   "outputs": [
    {
     "name": "stdout",
     "output_type": "stream",
     "text": [
      "CPU times: user 30 ms, sys: 10 ms, total: 40 ms\n",
      "Wall time: 81.2 ms\n"
     ]
    }
   ],
   "source": [
    "%%time\n",
    "# methode Spark \n",
    "keyWords = textFile.flatMap(lambda phrase : phrase.split(\" \"))\\\n",
    "    .filter(lambda word : word!='')\\\n",
    "    .map(lambda word : (word,1))\n",
    "\n",
    "BkeyWords = keyWords.reduceByKey(lambda x,y:x+y)"
   ]
  },
  {
   "cell_type": "code",
   "execution_count": 37,
   "metadata": {
    "ExecuteTime": {
     "end_time": "2019-10-23T20:02:03.969768Z",
     "start_time": "2019-10-23T20:02:03.312466Z"
    }
   },
   "outputs": [
    {
     "name": "stdout",
     "output_type": "stream",
     "text": [
      "CPU times: user 60 ms, sys: 20 ms, total: 80 ms\n",
      "Wall time: 640 ms\n"
     ]
    }
   ],
   "source": [
    "%%time\n",
    "# reverse key and sort\n",
    "reverseWords = BkeyWords.map(lambda x:(x[1],x[0]))\n",
    "sortedWords = reverseWords.sortByKey(ascending = False)"
   ]
  },
  {
   "cell_type": "code",
   "execution_count": 38,
   "metadata": {
    "ExecuteTime": {
     "end_time": "2019-10-23T20:02:14.716063Z",
     "start_time": "2019-10-23T20:02:14.673001Z"
    }
   },
   "outputs": [
    {
     "name": "stdout",
     "output_type": "stream",
     "text": [
      "Plan Spark method :  (2) PythonRDD[80] at RDD at PythonRDD.scala:48 []\n",
      " |  MapPartitionsRDD[78] at mapPartitions at PythonRDD.scala:122 []\n",
      " |  ShuffledRDD[77] at partitionBy at NativeMethodAccessorImpl.java:0 []\n",
      " +-(2) PairwiseRDD[76] at sortByKey at <timed exec>:3 []\n",
      "    |  PythonRDD[75] at sortByKey at <timed exec>:3 []\n",
      "    |  MapPartitionsRDD[53] at mapPartitions at PythonRDD.scala:122 []\n",
      "    |  ShuffledRDD[52] at partitionBy at NativeMethodAccessorImpl.java:0 []\n",
      "    +-(2) PairwiseRDD[51] at reduceByKey at <timed exec>:4 []\n",
      "       |  PythonRDD[50] at reduceByKey at <timed exec>:4 []\n",
      "       |  mobydick/mobydick.txt MapPartitionsRDD[3] at textFile at NativeMethodAccessorImpl.java:0 []\n",
      "       |  mobydick/mobydick.txt HadoopRDD[2] at textFile at NativeMethodAccessorImpl.java:0 []\n"
     ]
    }
   ],
   "source": [
    "# plan du spark methode\n",
    "print('Plan Spark method : ',sortedWords.toDebugString().decode())"
   ]
  },
  {
   "cell_type": "code",
   "execution_count": 42,
   "metadata": {
    "ExecuteTime": {
     "end_time": "2019-10-23T20:06:15.488172Z",
     "start_time": "2019-10-23T20:06:15.277723Z"
    }
   },
   "outputs": [
    {
     "name": "stdout",
     "output_type": "stream",
     "text": [
      "Top 5 most used words in moby dick : \n",
      "6611:\tthe\n",
      "3460:\tof\n",
      "2969:\tand\n",
      "2466:\ta\n",
      "2339:\tto\n",
      "CPU times: user 20 ms, sys: 0 ns, total: 20 ms\n",
      "Wall time: 185 ms\n"
     ]
    }
   ],
   "source": [
    "%%time\n",
    "# top 5 by spark method\n",
    "colFile = sortedWords.take(5)\n",
    "print('Top 5 most used words in moby dick : \\n'+'\\n'.join(['%d:\\t%s'%c for c in colFile]))"
   ]
  }
 ],
 "metadata": {
  "kernelspec": {
   "display_name": "Python 3",
   "language": "python",
   "name": "python3"
  },
  "language_info": {
   "codemirror_mode": {
    "name": "ipython",
    "version": 3
   },
   "file_extension": ".py",
   "mimetype": "text/x-python",
   "name": "python",
   "nbconvert_exporter": "python",
   "pygments_lexer": "ipython3",
   "version": "3.6.5"
  },
  "toc": {
   "base_numbering": 1,
   "nav_menu": {},
   "number_sections": true,
   "sideBar": true,
   "skip_h1_title": false,
   "title_cell": "Table of Contents",
   "title_sidebar": "Contents",
   "toc_cell": false,
   "toc_position": {},
   "toc_section_display": true,
   "toc_window_display": false
  },
  "varInspector": {
   "cols": {
    "lenName": 16,
    "lenType": 16,
    "lenVar": 40
   },
   "kernels_config": {
    "python": {
     "delete_cmd_postfix": "",
     "delete_cmd_prefix": "del ",
     "library": "var_list.py",
     "varRefreshCmd": "print(var_dic_list())"
    },
    "r": {
     "delete_cmd_postfix": ") ",
     "delete_cmd_prefix": "rm(",
     "library": "var_list.r",
     "varRefreshCmd": "cat(var_dic_list()) "
    }
   },
   "types_to_exclude": [
    "module",
    "function",
    "builtin_function_or_method",
    "instance",
    "_Feature"
   ],
   "window_display": false
  }
 },
 "nbformat": 4,
 "nbformat_minor": 2
}

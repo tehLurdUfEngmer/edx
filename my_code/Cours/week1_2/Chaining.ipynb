{
 "cells": [
  {
   "cell_type": "code",
   "execution_count": 1,
   "metadata": {
    "ExecuteTime": {
     "end_time": "2019-10-22T19:25:53.407374Z",
     "start_time": "2019-10-22T19:25:50.272461Z"
    }
   },
   "outputs": [],
   "source": [
    "\"\"\"\n",
    "-Chaining : syntaxe en cascade, le RDD intermédiaire est annonymisé\n",
    "Seq of execution : perform map (transformation) => store result in RDD => perform de reduce (action)\n",
    "\"\"\"\n",
    "# nombre de partition (cloisons) par default dans le SC = Le nombre de Workers\n",
    "from pyspark import SparkContext\n",
    "# spark context avec 4 workers\n",
    "sc = SparkContext(master=\"local[4]\")"
   ]
  },
  {
   "cell_type": "code",
   "execution_count": 3,
   "metadata": {
    "ExecuteTime": {
     "end_time": "2019-10-22T19:26:39.545852Z",
     "start_time": "2019-10-22T19:26:37.955187Z"
    }
   },
   "outputs": [
    {
     "data": {
      "text/plain": [
       "[0, 1, 2, 3]"
      ]
     },
     "execution_count": 3,
     "metadata": {},
     "output_type": "execute_result"
    }
   ],
   "source": [
    "B = sc.parallelize(range(4))\n",
    "B.collect()"
   ]
  },
  {
   "cell_type": "code",
   "execution_count": 4,
   "metadata": {
    "ExecuteTime": {
     "end_time": "2019-10-22T19:28:01.586085Z",
     "start_time": "2019-10-22T19:28:01.456083Z"
    }
   },
   "outputs": [
    {
     "data": {
      "text/plain": [
       "14"
      ]
     },
     "execution_count": 4,
     "metadata": {},
     "output_type": "execute_result"
    }
   ],
   "source": [
    "# methode nulle\n",
    "Squares = B.map(lambda x:x*x)\n",
    "Squares.reduce(lambda x,y:x+y)"
   ]
  },
  {
   "cell_type": "code",
   "execution_count": 5,
   "metadata": {
    "ExecuteTime": {
     "end_time": "2019-10-22T19:29:33.199004Z",
     "start_time": "2019-10-22T19:29:33.066987Z"
    }
   },
   "outputs": [
    {
     "data": {
      "text/plain": [
       "14"
      ]
     },
     "execution_count": 5,
     "metadata": {},
     "output_type": "execute_result"
    }
   ],
   "source": [
    "#methode chained : on ne voit pas le RDD intermédiaire !\n",
    "B.map(lambda x:x*x)\\\n",
    "    .reduce(lambda x,y:x+y)"
   ]
  },
  {
   "cell_type": "code",
   "execution_count": 18,
   "metadata": {
    "ExecuteTime": {
     "end_time": "2019-10-22T19:49:10.689111Z",
     "start_time": "2019-10-22T19:49:09.419113Z"
    }
   },
   "outputs": [
    {
     "name": "stdout",
     "output_type": "stream",
     "text": [
      "Count elems :  1000000\n",
      "First elem :  1\n",
      "5 first elems :  [1, 2, 3, 4, 1]\n",
      "Sample RDD 1 :  [3, 2, 2, 3, 4, 2, 2, 4, 1, 4, 1, 4]\n",
      "Sample RDD 2 :  [4, 4, 4, 3, 4, 3, 4, 1, 1, 3]\n"
     ]
    }
   ],
   "source": [
    "# creation d'une liste de taille 1 million (250000*4)\n",
    "n = 1000000\n",
    "B=sc.parallelize([1,2,3,4]*int(n/4))\n",
    "print('Count elems : ',B.count())\n",
    "print('First elem : ',B.first())\n",
    "print('5 first elems : ', B.take(5))\n",
    "# echantillons : 10/n = on dit que l'on va tirer en moyenne 10 elements\n",
    "print('Sample RDD 1 : ',B.sample(False,10/n).collect())\n",
    "print('Sample RDD 2 : ',B.sample(False,10/n).collect())"
   ]
  },
  {
   "cell_type": "code",
   "execution_count": 20,
   "metadata": {
    "ExecuteTime": {
     "end_time": "2019-10-22T19:53:21.872221Z",
     "start_time": "2019-10-22T19:53:21.669783Z"
    }
   },
   "outputs": [
    {
     "name": "stdout",
     "output_type": "stream",
     "text": [
      "The number of elements >= 3 :  500000\n"
     ]
    }
   ],
   "source": [
    "# filtrer un RDD\n",
    "print('The number of elements >= 3 : ',B.filter(lambda x:x>=3).count())"
   ]
  },
  {
   "cell_type": "code",
   "execution_count": 24,
   "metadata": {
    "ExecuteTime": {
     "end_time": "2019-10-22T19:58:02.186677Z",
     "start_time": "2019-10-22T19:58:01.861662Z"
    }
   },
   "outputs": [
    {
     "name": "stdout",
     "output_type": "stream",
     "text": [
      "Duplicate RDD :  [0, 1, 1, 3, 5, 5, 6]\n",
      "Distinct RDD :  [0, 1, 5, 6, 3]\n"
     ]
    }
   ],
   "source": [
    "# enlever doublons\n",
    "B = sc.parallelize([0,1,1,3,5,5,6])\n",
    "print('Duplicate RDD : ', B.collect())\n",
    "print('Distinct RDD : ', B.distinct().collect())"
   ]
  },
  {
   "cell_type": "code",
   "execution_count": 28,
   "metadata": {
    "ExecuteTime": {
     "end_time": "2019-10-22T20:06:51.445738Z",
     "start_time": "2019-10-22T20:06:51.198250Z"
    }
   },
   "outputs": [
    {
     "name": "stdout",
     "output_type": "stream",
     "text": [
      "Map function Split with spaces :  [['The', 'world', 'was', 'young'], ['the', 'mountains', 'green'], ['the', 'moon', 'was', 'seen'], ['Far', 'over', 'the', 'misty', 'mountains', 'cold'], ['to', 'dungeaons', 'deep', 'and', 'caverns', 'old'], ['we', 'must', 'away', 'and', 'break', 'a', 'day', 'to', 'seek', 'a', 'pen', 'and', 'shires', 'a', 'rock']]\n",
      "Flatmap function Split with spaces :  ['The', 'world', 'was', 'young', 'the', 'mountains', 'green', 'the', 'moon', 'was', 'seen', 'Far', 'over', 'the', 'misty', 'mountains', 'cold', 'to', 'dungeaons', 'deep', 'and', 'caverns', 'old', 'we', 'must', 'away', 'and', 'break', 'a', 'day', 'to', 'seek', 'a', 'pen', 'and', 'shires', 'a', 'rock']\n"
     ]
    }
   ],
   "source": [
    "# map ou flat map ? => ideal pour des données textuelles\n",
    "T = sc.parallelize(['The world was young', 'the mountains green','the moon was seen','Far over the misty mountains cold', 'to dungeaons deep and caverns old','we must away and break a day to seek a pen and shires a rock'])\n",
    "#map\n",
    "print('Map function Split with spaces : ', T.map(lambda phrase:phrase.split(\" \")).collect())\n",
    "# flat map :\n",
    "print('FlatMap function Split with spaces : ', T.flatMap(lambda phrase:phrase.split(\" \")).collect())\n",
    "#flatMap ne rend qu'une seule liste"
   ]
  },
  {
   "cell_type": "code",
   "execution_count": 31,
   "metadata": {
    "ExecuteTime": {
     "end_time": "2019-10-22T20:12:04.923018Z",
     "start_time": "2019-10-22T20:12:04.149102Z"
    }
   },
   "outputs": [
    {
     "name": "stdout",
     "output_type": "stream",
     "text": [
      "Union of 2 RDDs :  [1, 56464, 1216, 46, 4, 31, 36, 1, 31, 31, 3561654, 96, 4, 631, 23, 654, 65, 46, 461, 31, 321, 65, 4, 6, 45]\n",
      "Union distinct of 2 RDDs :  [56464, 1216, 96, 1, 65, 321, 4, 36, 461, 45, 46, 3561654, 654, 6, 31, 631, 23]\n"
     ]
    }
   ],
   "source": [
    "# union\n",
    "rdd1 = sc.parallelize([1,56464,1216,46,4,31,36,1,31,31,3561654,96,4,631,23])\n",
    "rdd2 = sc.parallelize([654,65,46,461,31,321,65,4,6,45])\n",
    "print('Union of 2 RDDs : ',rdd1.union(rdd2).collect())\n",
    "print('Union distinct of 2 RDDs : ',rdd1.union(rdd2).distinct().collect())"
   ]
  },
  {
   "cell_type": "code",
   "execution_count": 32,
   "metadata": {
    "ExecuteTime": {
     "end_time": "2019-10-22T20:12:22.396654Z",
     "start_time": "2019-10-22T20:12:21.892915Z"
    },
    "code_folding": []
   },
   "outputs": [
    {
     "name": "stdout",
     "output_type": "stream",
     "text": [
      "intersection of 2 RDDs :  [4, 46, 31]\n"
     ]
    }
   ],
   "source": [
    "#intersection\n",
    "print('intersection of 2 RDDs : ',rdd1.intersection(rdd2).collect())"
   ]
  },
  {
   "cell_type": "code",
   "execution_count": 33,
   "metadata": {
    "ExecuteTime": {
     "end_time": "2019-10-22T20:14:37.169494Z",
     "start_time": "2019-10-22T20:14:36.588204Z"
    }
   },
   "outputs": [
    {
     "name": "stdout",
     "output_type": "stream",
     "text": [
      "subtract of RDD 1 of 2 :  [56464, 1216, 96, 1, 1, 36, 3561654, 631, 23]\n"
     ]
    }
   ],
   "source": [
    "#exclusion : subtract\n",
    "print('subtract of RDD 1 of 2 : ',rdd1.subtract(rdd2).collect())"
   ]
  },
  {
   "cell_type": "code",
   "execution_count": 34,
   "metadata": {
    "ExecuteTime": {
     "end_time": "2019-10-22T20:16:25.441382Z",
     "start_time": "2019-10-22T20:16:25.361567Z"
    }
   },
   "outputs": [
    {
     "name": "stdout",
     "output_type": "stream",
     "text": [
      "cartesian product of 2 RDDs:  [(1, 654), (1, 65), (56464, 654), (56464, 65), (1216, 654), (1216, 65), (1, 46), (1, 461), (56464, 46), (56464, 461), (1216, 46), (1216, 461), (1, 31), (1, 321), (56464, 31), (56464, 321), (1216, 31), (1216, 321), (1, 65), (1, 4), (56464, 65), (56464, 4), (1216, 65), (1216, 4), (1, 6), (1, 45), (56464, 6), (56464, 45), (1216, 6), (1216, 45), (46, 654), (46, 65), (4, 654), (4, 65), (31, 654), (31, 65), (46, 46), (46, 461), (4, 46), (4, 461), (31, 46), (31, 461), (46, 31), (46, 321), (4, 31), (4, 321), (31, 31), (31, 321), (46, 65), (46, 4), (4, 65), (4, 4), (31, 65), (31, 4), (46, 6), (46, 45), (4, 6), (4, 45), (31, 6), (31, 45), (36, 654), (36, 65), (1, 654), (1, 65), (31, 654), (31, 65), (36, 46), (36, 461), (1, 46), (1, 461), (31, 46), (31, 461), (36, 31), (36, 321), (1, 31), (1, 321), (31, 31), (31, 321), (36, 65), (36, 4), (1, 65), (1, 4), (31, 65), (31, 4), (36, 6), (36, 45), (1, 6), (1, 45), (31, 6), (31, 45), (31, 654), (31, 65), (3561654, 654), (3561654, 65), (96, 654), (96, 65), (4, 654), (4, 65), (631, 654), (631, 65), (23, 654), (23, 65), (31, 46), (31, 461), (3561654, 46), (3561654, 461), (96, 46), (96, 461), (4, 46), (4, 461), (631, 46), (631, 461), (23, 46), (23, 461), (31, 31), (31, 321), (3561654, 31), (3561654, 321), (96, 31), (96, 321), (4, 31), (4, 321), (631, 31), (631, 321), (23, 31), (23, 321), (31, 65), (31, 4), (3561654, 65), (3561654, 4), (96, 65), (96, 4), (31, 6), (31, 45), (3561654, 6), (3561654, 45), (96, 6), (96, 45), (4, 65), (4, 4), (631, 65), (631, 4), (23, 65), (23, 4), (4, 6), (4, 45), (631, 6), (631, 45), (23, 6), (23, 45)]\n"
     ]
    }
   ],
   "source": [
    "# produit cartesien => fait des paires\n",
    "print('cartesian product of 2 RDDs: ',rdd1.cartesian(rdd2).collect())"
   ]
  }
 ],
 "metadata": {
  "kernelspec": {
   "display_name": "Python 3",
   "language": "python",
   "name": "python3"
  },
  "language_info": {
   "codemirror_mode": {
    "name": "ipython",
    "version": 3
   },
   "file_extension": ".py",
   "mimetype": "text/x-python",
   "name": "python",
   "nbconvert_exporter": "python",
   "pygments_lexer": "ipython3",
   "version": "3.6.5"
  },
  "toc": {
   "base_numbering": 1,
   "nav_menu": {},
   "number_sections": true,
   "sideBar": true,
   "skip_h1_title": false,
   "title_cell": "Table of Contents",
   "title_sidebar": "Contents",
   "toc_cell": false,
   "toc_position": {},
   "toc_section_display": true,
   "toc_window_display": false
  },
  "varInspector": {
   "cols": {
    "lenName": 16,
    "lenType": 16,
    "lenVar": 40
   },
   "kernels_config": {
    "python": {
     "delete_cmd_postfix": "",
     "delete_cmd_prefix": "del ",
     "library": "var_list.py",
     "varRefreshCmd": "print(var_dic_list())"
    },
    "r": {
     "delete_cmd_postfix": ") ",
     "delete_cmd_prefix": "rm(",
     "library": "var_list.r",
     "varRefreshCmd": "cat(var_dic_list()) "
    }
   },
   "types_to_exclude": [
    "module",
    "function",
    "builtin_function_or_method",
    "instance",
    "_Feature"
   ],
   "window_display": false
  }
 },
 "nbformat": 4,
 "nbformat_minor": 2
}

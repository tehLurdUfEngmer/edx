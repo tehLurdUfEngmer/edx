{
 "cells": [
  {
   "cell_type": "code",
   "execution_count": null,
   "metadata": {},
   "outputs": [],
   "source": [
    "\"\"\"\n",
    "- Moving & Deserialization\n",
    "\n",
    "Architechture of AWS-EMR = Amazon Web Service - Elastic Map Reduce\n",
    "    => S3 : long term persistent memory\n",
    "    => head node : Standard Unix file system\n",
    "    => HDFS : Hadoop Distributerd File System on Workers\n",
    "\n",
    "\"\"\"\n",
    "import os\n",
    "import sys\n",
    "import time\n",
    "\n",
    "# on imagine qu'on a le fichier ALL.csv dans le head node (téléchargé sur un cloud ou un serveur ...)\n",
    "%cd /mnt/workspace/edX-Micro-Master-in-Data-Science/big-data-analytics-using-spark/notebooks/Data/\n",
    "!ls\n",
    "!aws s3 ls s3://dse-weather/ALL.csv.gz\n",
    "!aws s3 cp s3://dse-weather/ALL.csv.gz ./ALL.csv.gz\n",
    "!rm ALL.csv\n",
    "!gunzip ALL.csv.gz\n",
    "!ls -l ALL.csv\n",
    "!head -2 ALL.csv\n",
    "#[...]\n",
    "# distribution HDFS : creation du rep sur les workers\n",
    "!hadoop fs -mkdir /weather\n",
    "# distribution du fichier sur les workers:\n",
    "!hadoop fs -copyFromLocal All.csv hdfs:///weather/weather.csv\n",
    "# vérification de la présence du fichier sur les clusters\n",
    "!hadoop fs -ls /weather\n"
   ]
  },
  {
   "cell_type": "code",
   "execution_count": null,
   "metadata": {},
   "outputs": [],
   "source": [
    "# verification de la présence de numpy_pack.py\n",
    "%cd /mnt/workspace/edX-Micro-Master-in-Data-Science/big-data-analytics-using-spark/notebooks/Section2-PCA/PCA/data_preparation/ \n",
    "!ls lib\n",
    "\n",
    "%pwd\n",
    "!ls -l lib/numpy_pack.py"
   ]
  },
  {
   "cell_type": "code",
   "execution_count": null,
   "metadata": {},
   "outputs": [],
   "source": [
    "%%time\n",
    "###Read CSV into a RDD :\n",
    "from pyspark import SparkContext\n",
    "# mise en place du cluster (ajout d'un fichier python pour utilisation de methodes / fonctions artisanales)\n",
    "sc = SparkContext(pyFiles=['/mnt/workspace/edX-Micro-Master-in-Data-Science/big-data-analytics-using-spark/notebooks/Section2-PCA/PCA/data_preparation/lib/numpy_pack.py'])\n",
    "#lecture CSV\n",
    "RDD=sc.textFile('/weather/weather.csv')\n",
    "RDD.count()"
   ]
  },
  {
   "cell_type": "code",
   "execution_count": null,
   "metadata": {},
   "outputs": [],
   "source": [
    "\"\"\"\n",
    "With this size of file : it will be fster to compute it on a single machine than on several machine. \n",
    "The Advantage of parallelization with be proved on much bigger files (this one is 7GB big)\n",
    "\"\"\""
   ]
  },
  {
   "cell_type": "code",
   "execution_count": null,
   "metadata": {},
   "outputs": [],
   "source": [
    "\"\"\"\n",
    "Deserialiszartion\n",
    "\"\"\"\n",
    "import numpy as np\n",
    "\"\"\"Code for packing and unpacking a numpy array into a byte array.\n",
    "   the array is flattened if it is not 1D.\n",
    "   This is intended to be used as the interface for storing \n",
    "   \n",
    "   This code is intended to be used to store numpy array as fields in a dataframe and then store the \n",
    "   dataframes in a parquet file.\n",
    "\"\"\"\n",
    "def packArray(a):\n",
    "    \"\"\"\n",
    "    pack a numpy array into a bytearray that can be stored as a single \n",
    "    field in a spark DataFrame\n",
    "\n",
    "    :param a: a numpy ndarray \n",
    "    :returns: a bytearray\n",
    "    :rtype:\n",
    "\n",
    "    \"\"\"\n",
    "    if type(a)!=np.ndarray:\n",
    "        raise Exception(\"input to packArray should be numpy.ndarray. It is instead \"+str(type(a)))\n",
    "    return bytearray(a.tobytes())\n",
    "\n",
    "def unpackArray(x,data_type=np.float16):\n",
    "    \"\"\"\n",
    "    unpack a bytearray into a numpy.ndarray\n",
    "\n",
    "    :param x: a bytearray\n",
    "    :param data_type: The dtype of the array. This is important because if determines how many bytes go into each entry in the array.\n",
    "    :returns: a numpy array\n",
    "    :rtype: a numpy ndarray of dtype data_type.\n",
    "\n",
    "    \"\"\"\n",
    "    return np.frombuffer(x,dtype=data_type)"
   ]
  },
  {
   "cell_type": "code",
   "execution_count": null,
   "metadata": {},
   "outputs": [],
   "source": [
    "def parse_weather(line):\n",
    "    L=line.split(',')\n",
    "    try:\n",
    "        assert len(L)==368\n",
    "        i=2\n",
    "        L[i]=int(L[i])\n",
    "        for i in range(3,368):\n",
    "            if L[i]!='':\n",
    "                L[i]=np.float16(L[i])\n",
    "            else:\n",
    "                L[i]=np.nan\n",
    "    except:\n",
    "        #if error in parsing, return (1, input line)\n",
    "        return (1,line)\n",
    "    Out=L[:3]\n",
    "    Out.append(packArray(np.array(L[3:],dtype=np.float16)))\n",
    "    # if parsing OK, return (0, parsed data)\n",
    "    return (0,Out)"
   ]
  },
  {
   "cell_type": "code",
   "execution_count": null,
   "metadata": {},
   "outputs": [],
   "source": [
    "%%time\n",
    "### Parsing the CSV file specificly for weather : All.csv:\n",
    "Parsed=RDD.map(parse_weather).cache() # filter out bad rows which are mapped (1,line)\n",
    "DATA=Parsed.filter(lambda x:x[0]==0).map(lambda x:x[1])\n",
    "ERRORS=Parsed.filter(lambda x:x[0]==1).map(lambda x:x[1])"
   ]
  },
  {
   "cell_type": "code",
   "execution_count": null,
   "metadata": {},
   "outputs": [],
   "source": [
    "# execution plan of DATA :\n",
    "print(DATA.todebugString.collect())"
   ]
  },
  {
   "cell_type": "code",
   "execution_count": null,
   "metadata": {},
   "outputs": [],
   "source": [
    "# RDD of precipitation (rain)\n",
    "PRCP = RDD.filter(lambda row : row[1]== 'PRCP')\n",
    "print('PRCT record : ',PRCP.count())\n",
    "print('ERROR records : ', ERROR.count())"
   ]
  },
  {
   "cell_type": "code",
   "execution_count": null,
   "metadata": {},
   "outputs": [],
   "source": [
    "#showing the face of a record\n",
    "DATA.take(1)"
   ]
  },
  {
   "cell_type": "code",
   "execution_count": null,
   "metadata": {},
   "outputs": [],
   "source": [
    "\"\"\"\n",
    "- Create parquet file to HDFS and storing it to S3 , then closing the cluster\n",
    "\"\"\"\n",
    "from pyspark.sql import SQLContext\n",
    "from pyspark.sql.types import Row, StructField, StructType, StringType, IntegerType, BinaryType, FloatType\n",
    "\n",
    "# Just like using Spark requires having a SparkContext, using SQL requires an SQLContext\n",
    "sqlContext = SQLContext(sc)\n",
    "sqlContext\n",
    "#creation of schema\n",
    "schema = StructType([StructField(\"Station\",     StringType(), True),\n",
    "                     StructField(\"Measurement\", StringType(), True),\n",
    "                     StructField(\"Year\",        IntegerType(),True),\n",
    "                     StructField(\"Values\",      BinaryType(),True)\n",
    "                    ])\n",
    "schema\n",
    "\n",
    "# Create a DataFrame by applying the schema to the RDD and print the schema\n",
    "ALL_DataFrame = sqlContext.createDataFrame(DATA, schema)\n",
    "ALL_DataFrame.printSchema()\n",
    "\n",
    "#remove previous parquet files \n",
    "%%time\n",
    "!hadoop fs -rm -r /weather/weather.parquet\n",
    "\n",
    "# creating a HDFS of parquet files\n",
    "outfilename=\"hdfs:///weather/weather.parquet\"\n",
    "ALL_DataFrame.write.save(outfilename)"
   ]
  },
  {
   "cell_type": "code",
   "execution_count": null,
   "metadata": {},
   "outputs": [],
   "source": [
    "\"\"\"\n",
    "-copy hdfs parquet to AWS S3 : long term storage\n",
    "\"\"\"\n",
    "# removing headnode parquet file weather.parquet\n",
    "%cd /mnt/workspace/Data/\n",
    "!rm -rf weather.parquet/\n",
    "!ls -lrt\n",
    "\n",
    "# copy parquet from HDFS to Headnode\n",
    "!hadoop fs -copyToLocal /weather/weather.parquet weather.parquet\n",
    "#rm parquet directory from s3\n",
    "!aws s3 rm --recursive --quiet s3://dse-weather/weather.parquet\n",
    "# Copy parquet directory from headnode to s3\n",
    "!aws s3 cp --recursive --quiet ./weather.parquet s3://dse-weather/weather.parquet\n"
   ]
  }
 ],
 "metadata": {
  "kernelspec": {
   "display_name": "Python 3",
   "language": "python",
   "name": "python3"
  },
  "language_info": {
   "codemirror_mode": {
    "name": "ipython",
    "version": 3
   },
   "file_extension": ".py",
   "mimetype": "text/x-python",
   "name": "python",
   "nbconvert_exporter": "python",
   "pygments_lexer": "ipython3",
   "version": "3.6.5"
  },
  "toc": {
   "base_numbering": 1,
   "nav_menu": {},
   "number_sections": true,
   "sideBar": true,
   "skip_h1_title": false,
   "title_cell": "Table of Contents",
   "title_sidebar": "Contents",
   "toc_cell": false,
   "toc_position": {},
   "toc_section_display": true,
   "toc_window_display": false
  },
  "varInspector": {
   "cols": {
    "lenName": 16,
    "lenType": 16,
    "lenVar": 40
   },
   "kernels_config": {
    "python": {
     "delete_cmd_postfix": "",
     "delete_cmd_prefix": "del ",
     "library": "var_list.py",
     "varRefreshCmd": "print(var_dic_list())"
    },
    "r": {
     "delete_cmd_postfix": ") ",
     "delete_cmd_prefix": "rm(",
     "library": "var_list.r",
     "varRefreshCmd": "cat(var_dic_list()) "
    }
   },
   "types_to_exclude": [
    "module",
    "function",
    "builtin_function_or_method",
    "instance",
    "_Feature"
   ],
   "window_display": false
  }
 },
 "nbformat": 4,
 "nbformat_minor": 2
}
